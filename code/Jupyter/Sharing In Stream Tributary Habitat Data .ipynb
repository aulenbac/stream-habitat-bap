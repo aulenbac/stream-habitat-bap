{
 "cells": [
  {
   "cell_type": "code",
   "execution_count": 1,
   "metadata": {},
   "outputs": [
    {
     "name": "stdout",
     "output_type": "stream",
     "text": [
      "package 'leaflet' successfully unpacked and MD5 sums checked\n",
      "\n",
      "The downloaded binary packages are in\n",
      "\tC:\\Users\\rscully\\AppData\\Local\\Temp\\1\\RtmpM5a6Sk\\downloaded_packages\n"
     ]
    },
    {
     "name": "stderr",
     "output_type": "stream",
     "text": [
      "Warning message:\n",
      "\"package 'leaflet' was built under R version 3.6.2\""
     ]
    },
    {
     "name": "stdout",
     "output_type": "stream",
     "text": [
      "package 'sp' successfully unpacked and MD5 sums checked\n",
      "\n",
      "The downloaded binary packages are in\n",
      "\tC:\\Users\\rscully\\AppData\\Local\\Temp\\1\\RtmpM5a6Sk\\downloaded_packages\n"
     ]
    },
    {
     "name": "stderr",
     "output_type": "stream",
     "text": [
      "Warning message:\n",
      "\"package 'sp' was built under R version 3.6.2\"also installing the dependencies 'e1071', 'classInt', 'units'\n",
      "\n"
     ]
    },
    {
     "name": "stdout",
     "output_type": "stream",
     "text": [
      "package 'e1071' successfully unpacked and MD5 sums checked\n",
      "package 'classInt' successfully unpacked and MD5 sums checked\n",
      "package 'units' successfully unpacked and MD5 sums checked\n",
      "package 'sf' successfully unpacked and MD5 sums checked\n",
      "\n",
      "The downloaded binary packages are in\n",
      "\tC:\\Users\\rscully\\AppData\\Local\\Temp\\1\\RtmpM5a6Sk\\downloaded_packages\n"
     ]
    },
    {
     "name": "stderr",
     "output_type": "stream",
     "text": [
      "Warning message:\n",
      "\"package 'sf' was built under R version 3.6.2\"Linking to GEOS 3.6.1, GDAL 2.2.3, PROJ 4.9.3\n",
      "also installing the dependencies 'ellipsis', 'zeallot', 'vctrs', 'lifecycle', 'dbplyr', 'dplyr', 'ggplot2', 'haven', 'hms', 'httr', 'modelr', 'pillar', 'purrr', 'reprex', 'rlang', 'rvest', 'tibble', 'tidyr', 'xml2'\n",
      "\n"
     ]
    },
    {
     "name": "stdout",
     "output_type": "stream",
     "text": [
      "package 'ellipsis' successfully unpacked and MD5 sums checked\n",
      "package 'zeallot' successfully unpacked and MD5 sums checked\n",
      "package 'vctrs' successfully unpacked and MD5 sums checked\n",
      "package 'lifecycle' successfully unpacked and MD5 sums checked\n",
      "package 'dbplyr' successfully unpacked and MD5 sums checked\n",
      "package 'dplyr' successfully unpacked and MD5 sums checked\n",
      "package 'ggplot2' successfully unpacked and MD5 sums checked\n",
      "package 'haven' successfully unpacked and MD5 sums checked\n",
      "package 'hms' successfully unpacked and MD5 sums checked\n",
      "package 'httr' successfully unpacked and MD5 sums checked\n",
      "package 'modelr' successfully unpacked and MD5 sums checked\n",
      "package 'pillar' successfully unpacked and MD5 sums checked\n",
      "package 'purrr' successfully unpacked and MD5 sums checked\n",
      "package 'reprex' successfully unpacked and MD5 sums checked\n",
      "package 'rlang' successfully unpacked and MD5 sums checked\n",
      "package 'rvest' successfully unpacked and MD5 sums checked\n",
      "package 'tibble' successfully unpacked and MD5 sums checked\n",
      "package 'tidyr' successfully unpacked and MD5 sums checked\n",
      "package 'xml2' successfully unpacked and MD5 sums checked\n",
      "package 'tidyverse' successfully unpacked and MD5 sums checked\n",
      "\n",
      "The downloaded binary packages are in\n",
      "\tC:\\Users\\rscully\\AppData\\Local\\Temp\\1\\RtmpM5a6Sk\\downloaded_packages\n"
     ]
    },
    {
     "name": "stderr",
     "output_type": "stream",
     "text": [
      "Warning message:\n",
      "\"package 'tidyverse' was built under R version 3.6.2\"-- Attaching packages --------------------------------------- tidyverse 1.3.0 --\n",
      "v ggplot2 3.2.1     v purrr   0.3.3\n",
      "v tibble  2.1.3     v dplyr   0.8.3\n",
      "v tidyr   1.0.0     v stringr 1.4.0\n",
      "v readr   1.3.1     v forcats 0.4.0\n",
      "Warning message:\n",
      "\"package 'ggplot2' was built under R version 3.6.2\"Warning message:\n",
      "\"package 'tibble' was built under R version 3.6.2\"Warning message:\n",
      "\"package 'tidyr' was built under R version 3.6.2\"Warning message:\n",
      "\"package 'purrr' was built under R version 3.6.2\"Warning message:\n",
      "\"package 'dplyr' was built under R version 3.6.2\"-- Conflicts ------------------------------------------ tidyverse_conflicts() --\n",
      "x dplyr::filter() masks stats::filter()\n",
      "x dplyr::lag()    masks stats::lag()\n"
     ]
    },
    {
     "name": "stdout",
     "output_type": "stream",
     "text": [
      "package 'rgdal' successfully unpacked and MD5 sums checked\n",
      "\n",
      "The downloaded binary packages are in\n",
      "\tC:\\Users\\rscully\\AppData\\Local\\Temp\\1\\RtmpM5a6Sk\\downloaded_packages\n"
     ]
    },
    {
     "name": "stderr",
     "output_type": "stream",
     "text": [
      "Warning message:\n",
      "\"package 'rgdal' was built under R version 3.6.2\"rgdal: version: 1.4-8, (SVN revision 845)\n",
      " Geospatial Data Abstraction Library extensions to R successfully loaded\n",
      " Loaded GDAL runtime: GDAL 2.2.3, released 2017/11/20\n",
      " Path to GDAL shared files: C:/Users/rscully/AppData/Local/Continuum/anaconda3/envs/Instream Habitat Data/Lib/R/library/rgdal/gdal\n",
      " GDAL binary built with GEOS: TRUE \n",
      " Loaded PROJ.4 runtime: Rel. 4.9.3, 15 August 2016, [PJ_VERSION: 493]\n",
      " Path to PROJ.4 shared files: C:/Users/rscully/AppData/Local/Continuum/anaconda3/envs/Instream Habitat Data/Lib/R/library/rgdal/proj\n",
      " Linking to sp version: 1.3-2 \n"
     ]
    },
    {
     "name": "stdout",
     "output_type": "stream",
     "text": [
      "package 'formattable' successfully unpacked and MD5 sums checked\n",
      "\n",
      "The downloaded binary packages are in\n",
      "\tC:\\Users\\rscully\\AppData\\Local\\Temp\\1\\RtmpM5a6Sk\\downloaded_packages\n"
     ]
    },
    {
     "name": "stderr",
     "output_type": "stream",
     "text": [
      "also installing the dependency 'webshot'\n",
      "\n"
     ]
    },
    {
     "name": "stdout",
     "output_type": "stream",
     "text": [
      "package 'webshot' successfully unpacked and MD5 sums checked\n",
      "package 'kableExtra' successfully unpacked and MD5 sums checked\n",
      "\n",
      "The downloaded binary packages are in\n",
      "\tC:\\Users\\rscully\\AppData\\Local\\Temp\\1\\RtmpM5a6Sk\\downloaded_packages\n",
      "package 'DT' successfully unpacked and MD5 sums checked\n",
      "\n",
      "The downloaded binary packages are in\n",
      "\tC:\\Users\\rscully\\AppData\\Local\\Temp\\1\\RtmpM5a6Sk\\downloaded_packages\n"
     ]
    },
    {
     "name": "stderr",
     "output_type": "stream",
     "text": [
      "Warning message:\n",
      "\"package 'DT' was built under R version 3.6.2\""
     ]
    },
    {
     "name": "stdout",
     "output_type": "stream",
     "text": [
      "package 'downloader' successfully unpacked and MD5 sums checked\n",
      "\n",
      "The downloaded binary packages are in\n",
      "\tC:\\Users\\rscully\\AppData\\Local\\Temp\\1\\RtmpM5a6Sk\\downloaded_packages\n"
     ]
    },
    {
     "name": "stderr",
     "output_type": "stream",
     "text": [
      "Warning message:\n",
      "\"package 'downloader' was built under R version 3.6.2\"also installing the dependency 'bitops'\n",
      "\n"
     ]
    },
    {
     "name": "stdout",
     "output_type": "stream",
     "text": [
      "package 'bitops' successfully unpacked and MD5 sums checked\n",
      "package 'RCurl' successfully unpacked and MD5 sums checked\n",
      "\n",
      "The downloaded binary packages are in\n",
      "\tC:\\Users\\rscully\\AppData\\Local\\Temp\\1\\RtmpM5a6Sk\\downloaded_packages\n"
     ]
    },
    {
     "name": "stderr",
     "output_type": "stream",
     "text": [
      "Loading required package: bitops\n",
      "\n",
      "Attaching package: 'RCurl'\n",
      "\n",
      "The following object is masked from 'package:tidyr':\n",
      "\n",
      "    complete\n",
      "\n",
      "also installing the dependencies 'rJava', 'xlsxjars'\n",
      "\n"
     ]
    },
    {
     "name": "stdout",
     "output_type": "stream",
     "text": [
      "package 'rJava' successfully unpacked and MD5 sums checked\n",
      "package 'xlsxjars' successfully unpacked and MD5 sums checked\n",
      "package 'xlsx' successfully unpacked and MD5 sums checked\n",
      "\n",
      "The downloaded binary packages are in\n",
      "\tC:\\Users\\rscully\\AppData\\Local\\Temp\\1\\RtmpM5a6Sk\\downloaded_packages\n"
     ]
    },
    {
     "name": "stderr",
     "output_type": "stream",
     "text": [
      "also installing the dependency 'zip'\n",
      "\n"
     ]
    },
    {
     "name": "stdout",
     "output_type": "stream",
     "text": [
      "package 'zip' successfully unpacked and MD5 sums checked\n",
      "package 'openxlsx' successfully unpacked and MD5 sums checked\n",
      "\n",
      "The downloaded binary packages are in\n",
      "\tC:\\Users\\rscully\\AppData\\Local\\Temp\\1\\RtmpM5a6Sk\\downloaded_packages\n"
     ]
    },
    {
     "name": "stderr",
     "output_type": "stream",
     "text": [
      "Warning message:\n",
      "\"package 'openxlsx' was built under R version 3.6.2\"\n",
      "Attaching package: 'openxlsx'\n",
      "\n",
      "The following objects are masked from 'package:xlsx':\n",
      "\n",
      "    createWorkbook, loadWorkbook, read.xlsx, saveWorkbook, write.xlsx\n",
      "\n",
      "Warning message:\n",
      "\"package 'formattable' was built under R version 3.6.2\""
     ]
    },
    {
     "name": "stdout",
     "output_type": "stream",
     "text": [
      "package 'knitr' successfully unpacked and MD5 sums checked\n",
      "\n",
      "The downloaded binary packages are in\n",
      "\tC:\\Users\\rscully\\AppData\\Local\\Temp\\1\\RtmpM5a6Sk\\downloaded_packages\n"
     ]
    },
    {
     "name": "stderr",
     "output_type": "stream",
     "text": [
      "Warning message:\n",
      "\"package 'knitr' was built under R version 3.6.2\""
     ]
    },
    {
     "ename": "ERROR",
     "evalue": "Error in value[[3L]](cond): Package 'knitr' version 1.22 cannot be unloaded:\n Error in unloadNamespace(package) : namespace 'knitr' is imported by 'rmarkdown', 'formattable' so cannot be unloaded\n\n",
     "output_type": "error",
     "traceback": [
      "Error in value[[3L]](cond): Package 'knitr' version 1.22 cannot be unloaded:\n Error in unloadNamespace(package) : namespace 'knitr' is imported by 'rmarkdown', 'formattable' so cannot be unloaded\n\nTraceback:\n",
      "1. library(knitr)",
      "2. tryCatch(unloadNamespace(package), error = function(e) {\n .     P <- if (!is.null(cc <- conditionCall(e))) \n .         paste(\"Error in\", deparse(cc)[1L], \": \")\n .     else \"Error : \"\n .     stop(gettextf(\"Package %s version %s cannot be unloaded:\\n %s\", \n .         sQuote(package), oldversion, paste0(P, conditionMessage(e), \n .             \"\\n\")), domain = NA)\n . })",
      "3. tryCatchList(expr, classes, parentenv, handlers)",
      "4. tryCatchOne(expr, names, parentenv, handlers[[1L]])",
      "5. value[[3L]](cond)",
      "6. stop(gettextf(\"Package %s version %s cannot be unloaded:\\n %s\", \n .     sQuote(package), oldversion, paste0(P, conditionMessage(e), \n .         \"\\n\")), domain = NA)"
     ]
    }
   ],
   "source": [
    "install.packages(\"leaflet\")\n",
    "library(leaflet)\n",
    "\n",
    "install.packages(\"sp\")\n",
    "library(sp)\n",
    "\n",
    "install.packages(\"sf\")\n",
    "library(sf)\n",
    "\n",
    "install.packages(\"tidyverse\")\n",
    "library(tidyverse)\n",
    "\n",
    "install.packages(\"rgdal\")\n",
    "library(rgdal)\n",
    "\n",
    "install.packages(\"formattable\")\n",
    "\n",
    "install.packages(\"kableExtra\")\n",
    "library(kableExtra)\n",
    "\n",
    "install.packages(\"DT\")\n",
    "library(DT)\n",
    "\n",
    "install.packages(\"downloader\")\n",
    "library(downloader)\n",
    "\n",
    "install.packages(\"RCurl\")\n",
    "library(RCurl)\n",
    "\n",
    "install.packages(\"xlsx\")\n",
    "library(xlsx)\n",
    "\n",
    "install.packages(\"openxlsx\")\n",
    "library(openxlsx)\n",
    "\n",
    "library(rstudioapi)\n",
    "library(ggplot2)\n",
    "library(formattable)\n",
    "library(htmltools)\n",
    "\n",
    "#Packages to create well formated tables in RStuido \n",
    "install.packages(\"knitr\")\n",
    "library(knitr)\n",
    "\n",
    "library(gridExtra)\n"
   ]
  },
  {
   "cell_type": "code",
   "execution_count": 12,
   "metadata": {},
   "outputs": [
    {
     "name": "stdout",
     "output_type": "stream",
     "text": [
      "package 'kableExtra' successfully unpacked and MD5 sums checked\n",
      "\n",
      "The downloaded binary packages are in\n",
      "\tC:\\Users\\rscully\\AppData\\Local\\Temp\\1\\RtmpM5a6Sk\\downloaded_packages\n"
     ]
    },
    {
     "name": "stderr",
     "output_type": "stream",
     "text": [
      "Warning message:\n",
      "\"package 'kableExtra' was built under R version 3.6.2\"\n",
      "Attaching package: 'kableExtra'\n",
      "\n",
      "The following object is masked from 'package:dplyr':\n",
      "\n",
      "    group_rows\n",
      "\n"
     ]
    }
   ],
   "source": [
    "install.packages(\"kableExtra\")\n",
    "library(kableExtra)"
   ]
  },
  {
   "cell_type": "markdown",
   "metadata": {},
   "source": [
    "# Background \n",
    "\n",
    "To accelerate research and decision making data needs to be findable, accessible, interoperable, and reusable (FAIR). Multiple federal, state and tribal agencies collect in-stream and riparian habitat metrics to answer management questions specific to their program goals. This analysis package integrates data from two different aquatic monitoring programs; BLM AIM and EPA Rivers and Streams (Table1). \n",
    "\n",
    "<h2>Monitoring Program Information</h2>"
   ]
  },
  {
   "cell_type": "code",
   "execution_count": 8,
   "metadata": {},
   "outputs": [
    {
     "data": {
      "text/html": [
       "<table>\n",
       "<thead><tr><th scope=col>Entity</th><th scope=col>Bureau.of.Land.Management</th><th scope=col>US.Forest.Service.and.Bureau.of.Land.Management</th><th scope=col>Environmental.Protection.Agency</th><th scope=col>US.Forest.Service</th></tr></thead>\n",
       "<tbody>\n",
       "\t<tr><td>Program                                                                                                                                                                                                                                                                                                                                                                                                                                                                                                                                                </td><td>Assessment, Inventory, and Monitoring                                                                                                                                                                                                                                                                                                                                                                                                                                                                                                                  </td><td>Aquatic and Riparian Effective Monitoring Program                                                                                                                                                                                                                                                                                                                                                                                                                                                                                                      </td><td>National Rivers and Streams Assessment                                                                                                                                                                                                                                                                                                                                                                                                                                                                                                                 </td><td>PACFISH/INFISH Biological Opinion Effectiveness Monitoring                                                                                                                                                                                                                                                                                                                                                                                                                                                                                             </td></tr>\n",
       "\t<tr><td>Abbreviation                                                                                                                                                                                                                                                                                                                                                                                                                                                                                                                                           </td><td>AIM Aquatic                                                                                                                                                                                                                                                                                                                                                                                                                                                                                                                                            </td><td>AREMP                                                                                                                                                                                                                                                                                                                                                                                                                                                                                                                                                  </td><td>NRSA                                                                                                                                                                                                                                                                                                                                                                                                                                                                                                                                                   </td><td>PIBO EM                                                                                                                                                                                                                                                                                                                                                                                                                                                                                                                                                </td></tr>\n",
       "\t<tr><td>Primary Objective                                                                                                                                                                                                                                                                                                                                                                                                                                                                                                                                      </td><td>A consistent, quantitative approach for determining the attainment of BLM land health standards for perennial wadeable streams and rivers, among other applications.  Monitoring\n",
       "objectives are established by project managers and will determine the number of\n",
       "reaches to be sampled and whether a randomized, targeted, or mixed site\n",
       "selection approach is appropriate.                                                                                                                                                                         </td><td>Status and Trend                                                                                                                                                                                                                                                                                                                                                                                                                                                                                                                                       </td><td>A collaborative survey that provides information on the ecological condition of the nation’s rivers and streams and the key stressors that affect them, both on a national and an ecoregional scale. \n",
       "The goals of the NRSA are to determine the extent to which rivers and streams support a healthy biological condition and the extent of major stressors that affect them. The survey supports a longer-term goal: to determine whether our rivers and streams are getting cleaner and how we might best invest in protecting and restoring them. </td><td>The primary objective is to determine whether\n",
       "priority biological and physical attributes, processes, and functions of riparian\n",
       "and aquatic systems are being degraded, maintained, or restored in the\n",
       "PIBO monitoring area.                                                                                                                                                                                                                                                                                                                        </td></tr>\n",
       "\t<tr><td>Year Started                                                                                                                                                                                                                                                                                                                                                                                                                                                                                                                                           </td><td>2011                                                                                                                                                                                                                                                                                                                                                                                                                                                                                                                                                   </td><td>2002                                                                                                                                                                                                                                                                                                                                                                                                                                                                                                                                                   </td><td>2008                                                                                                                                                                                                                                                                                                                                                                                                                                                                                                                                                   </td><td>1998                                                                                                                                                                                                                                                                                                                                                                                                                                                                                                                                                   </td></tr>\n",
       "\t<tr><td>Site Length                                                                                                                                                                                                                                                                                                                                                                                                                                                                                                                                            </td><td>20 x bankfull width, a minimum of 150m                                                                                                                                                                                                                                                                                                                                                                                                                                                                                                                 </td><td>20x bankfull width categories, range 150m-500m                                                                                                                                                                                                                                                                                                                                                                                                                                                                                                         </td><td>20x channel-widths, a minimum of 150m                                                                                                                                                                                                                                                                                                                                                                                                                                                                                                                  </td><td> 20x bankfull channel\n",
       "widths, range from 160m-480m                                                                                                                                                                                                                                                                                                                                                                                                                                                                                                    </td></tr>\n",
       "\t<tr><td>Spatial Design                                                                                                                                                                                                                                                                                                                                                                                                                                                                                                                                         </td><td>Stratified GRTS, Targeted sites                                                                                                                                                                                                                                                                                                                                                                                                                                                                                                                        </td><td>Non-stratified GRTS                                                                                                                                                                                                                                                                                                                                                                                                                                                                                                                                    </td><td>GRTS                                                                                                                                                                                                                                                                                                                                                                                                                                                                                                                                                   </td><td>GRTS, Targeted sites                                                                                                                                                                                                                                                                                                                                                                                                                                                                                                                                   </td></tr>\n",
       "</tbody>\n",
       "</table>\n"
      ],
      "text/latex": [
       "\\begin{tabular}{r|lllll}\n",
       " Entity & Bureau.of.Land.Management & US.Forest.Service.and.Bureau.of.Land.Management & Environmental.Protection.Agency & US.Forest.Service\\\\\n",
       "\\hline\n",
       "\t Program                                                                                                                                                                                                                                                                                                                                                                                                                                                                                                                                                 & Assessment, Inventory, and Monitoring                                                                                                                                                                                                                                                                                                                                                                                                                                                                                                                   & Aquatic and Riparian Effective Monitoring Program                                                                                                                                                                                                                                                                                                                                                                                                                                                                                                       & National Rivers and Streams Assessment                                                                                                                                                                                                                                                                                                                                                                                                                                                                                                                  & PACFISH/INFISH Biological Opinion Effectiveness Monitoring                                                                                                                                                                                                                                                                                                                                                                                                                                                                                             \\\\\n",
       "\t Abbreviation                                                                                                                                                                                                                                                                                                                                                                                                                                                                                                                                            & AIM Aquatic                                                                                                                                                                                                                                                                                                                                                                                                                                                                                                                                             & AREMP                                                                                                                                                                                                                                                                                                                                                                                                                                                                                                                                                   & NRSA                                                                                                                                                                                                                                                                                                                                                                                                                                                                                                                                                    & PIBO EM                                                                                                                                                                                                                                                                                                                                                                                                                                                                                                                                                \\\\\n",
       "\t Primary Objective                                                                                                                                                                                                                                                                                                                                                                                                                                                                                                                                       & A consistent, quantitative approach for determining the attainment of BLM land health standards for perennial wadeable streams and rivers, among other applications.  Monitoring\n",
       "objectives are established by project managers and will determine the number of\n",
       "reaches to be sampled and whether a randomized, targeted, or mixed site\n",
       "selection approach is appropriate.                                                                                                                                                                          & Status and Trend                                                                                                                                                                                                                                                                                                                                                                                                                                                                                                                                        & A collaborative survey that provides information on the ecological condition of the nation’s rivers and streams and the key stressors that affect them, both on a national and an ecoregional scale. \n",
       "The goals of the NRSA are to determine the extent to which rivers and streams support a healthy biological condition and the extent of major stressors that affect them. The survey supports a longer-term goal: to determine whether our rivers and streams are getting cleaner and how we might best invest in protecting and restoring them.  & The primary objective is to determine whether\n",
       "priority biological and physical attributes, processes, and functions of riparian\n",
       "and aquatic systems are being degraded, maintained, or restored in the\n",
       "PIBO monitoring area.                                                                                                                                                                                                                                                                                                                        \\\\\n",
       "\t Year Started                                                                                                                                                                                                                                                                                                                                                                                                                                                                                                                                            & 2011                                                                                                                                                                                                                                                                                                                                                                                                                                                                                                                                                    & 2002                                                                                                                                                                                                                                                                                                                                                                                                                                                                                                                                                    & 2008                                                                                                                                                                                                                                                                                                                                                                                                                                                                                                                                                    & 1998                                                                                                                                                                                                                                                                                                                                                                                                                                                                                                                                                   \\\\\n",
       "\t Site Length                                                                                                                                                                                                                                                                                                                                                                                                                                                                                                                                             & 20 x bankfull width, a minimum of 150m                                                                                                                                                                                                                                                                                                                                                                                                                                                                                                                  & 20x bankfull width categories, range 150m-500m                                                                                                                                                                                                                                                                                                                                                                                                                                                                                                          & 20x channel-widths, a minimum of 150m                                                                                                                                                                                                                                                                                                                                                                                                                                                                                                                   &  20x bankfull channel\n",
       "widths, range from 160m-480m                                                                                                                                                                                                                                                                                                                                                                                                                                                                                                    \\\\\n",
       "\t Spatial Design                                                                                                                                                                                                                                                                                                                                                                                                                                                                                                                                          & Stratified GRTS, Targeted sites                                                                                                                                                                                                                                                                                                                                                                                                                                                                                                                         & Non-stratified GRTS                                                                                                                                                                                                                                                                                                                                                                                                                                                                                                                                     & GRTS                                                                                                                                                                                                                                                                                                                                                                                                                                                                                                                                                    & GRTS, Targeted sites                                                                                                                                                                                                                                                                                                                                                                                                                                                                                                                                   \\\\\n",
       "\\end{tabular}\n"
      ],
      "text/markdown": [
       "\n",
       "| Entity | Bureau.of.Land.Management | US.Forest.Service.and.Bureau.of.Land.Management | Environmental.Protection.Agency | US.Forest.Service |\n",
       "|---|---|---|---|---|\n",
       "| Program                                                                                                                                                                                                                                                                                                                                                                                                                                                                                                                                                 | Assessment, Inventory, and Monitoring                                                                                                                                                                                                                                                                                                                                                                                                                                                                                                                   | Aquatic and Riparian Effective Monitoring Program                                                                                                                                                                                                                                                                                                                                                                                                                                                                                                       | National Rivers and Streams Assessment                                                                                                                                                                                                                                                                                                                                                                                                                                                                                                                  | PACFISH/INFISH Biological Opinion Effectiveness Monitoring                                                                                                                                                                                                                                                                                                                                                                                                                                                                                              |\n",
       "| Abbreviation                                                                                                                                                                                                                                                                                                                                                                                                                                                                                                                                            | AIM Aquatic                                                                                                                                                                                                                                                                                                                                                                                                                                                                                                                                             | AREMP                                                                                                                                                                                                                                                                                                                                                                                                                                                                                                                                                   | NRSA                                                                                                                                                                                                                                                                                                                                                                                                                                                                                                                                                    | PIBO EM                                                                                                                                                                                                                                                                                                                                                                                                                                                                                                                                                 |\n",
       "| Primary Objective                                                                                                                                                                                                                                                                                                                                                                                                                                                                                                                                       | A consistent, quantitative approach for determining the attainment of BLM land health standards for perennial wadeable streams and rivers, among other applications.  Monitoring\n",
       "objectives are established by project managers and will determine the number of\n",
       "reaches to be sampled and whether a randomized, targeted, or mixed site\n",
       "selection approach is appropriate.                                                                                                                                                                          | Status and Trend                                                                                                                                                                                                                                                                                                                                                                                                                                                                                                                                        | A collaborative survey that provides information on the ecological condition of the nation’s rivers and streams and the key stressors that affect them, both on a national and an ecoregional scale. \n",
       "The goals of the NRSA are to determine the extent to which rivers and streams support a healthy biological condition and the extent of major stressors that affect them. The survey supports a longer-term goal: to determine whether our rivers and streams are getting cleaner and how we might best invest in protecting and restoring them.  | The primary objective is to determine whether\n",
       "priority biological and physical attributes, processes, and functions of riparian\n",
       "and aquatic systems are being degraded, maintained, or restored in the\n",
       "PIBO monitoring area.                                                                                                                                                                                                                                                                                                                         |\n",
       "| Year Started                                                                                                                                                                                                                                                                                                                                                                                                                                                                                                                                            | 2011                                                                                                                                                                                                                                                                                                                                                                                                                                                                                                                                                    | 2002                                                                                                                                                                                                                                                                                                                                                                                                                                                                                                                                                    | 2008                                                                                                                                                                                                                                                                                                                                                                                                                                                                                                                                                    | 1998                                                                                                                                                                                                                                                                                                                                                                                                                                                                                                                                                    |\n",
       "| Site Length                                                                                                                                                                                                                                                                                                                                                                                                                                                                                                                                             | 20 x bankfull width, a minimum of 150m                                                                                                                                                                                                                                                                                                                                                                                                                                                                                                                  | 20x bankfull width categories, range 150m-500m                                                                                                                                                                                                                                                                                                                                                                                                                                                                                                          | 20x channel-widths, a minimum of 150m                                                                                                                                                                                                                                                                                                                                                                                                                                                                                                                   |  20x bankfull channel\n",
       "widths, range from 160m-480m                                                                                                                                                                                                                                                                                                                                                                                                                                                                                                     |\n",
       "| Spatial Design                                                                                                                                                                                                                                                                                                                                                                                                                                                                                                                                          | Stratified GRTS, Targeted sites                                                                                                                                                                                                                                                                                                                                                                                                                                                                                                                         | Non-stratified GRTS                                                                                                                                                                                                                                                                                                                                                                                                                                                                                                                                     | GRTS                                                                                                                                                                                                                                                                                                                                                                                                                                                                                                                                                    | GRTS, Targeted sites                                                                                                                                                                                                                                                                                                                                                                                                                                                                                                                                    |\n",
       "\n"
      ],
      "text/plain": [
       "  Entity            \n",
       "1 Program           \n",
       "2 Abbreviation      \n",
       "3 Primary Objective \n",
       "4 Year Started      \n",
       "5 Site Length       \n",
       "6 Spatial Design    \n",
       "  Bureau.of.Land.Management                                                                                                                                                                                                                                                                                                                                                      \n",
       "1 Assessment, Inventory, and Monitoring                                                                                                                                                                                                                                                                                                                                          \n",
       "2 AIM Aquatic                                                                                                                                                                                                                                                                                                                                                                    \n",
       "3 A consistent, quantitative approach for determining the attainment of BLM land health standards for perennial wadeable streams and rivers, among other applications.  Monitoring\\nobjectives are established by project managers and will determine the number of\\nreaches to be sampled and whether a randomized, targeted, or mixed site\\nselection approach is appropriate. \n",
       "4 2011                                                                                                                                                                                                                                                                                                                                                                           \n",
       "5 20 x bankfull width, a minimum of 150m                                                                                                                                                                                                                                                                                                                                         \n",
       "6 Stratified GRTS, Targeted sites                                                                                                                                                                                                                                                                                                                                                \n",
       "  US.Forest.Service.and.Bureau.of.Land.Management   \n",
       "1 Aquatic and Riparian Effective Monitoring Program \n",
       "2 AREMP                                             \n",
       "3 Status and Trend                                  \n",
       "4 2002                                              \n",
       "5 20x bankfull width categories, range 150m-500m    \n",
       "6 Non-stratified GRTS                               \n",
       "  Environmental.Protection.Agency                                                                                                                                                                                                                                                                                                                                                                                                                                                                                                                        \n",
       "1 National Rivers and Streams Assessment                                                                                                                                                                                                                                                                                                                                                                                                                                                                                                                 \n",
       "2 NRSA                                                                                                                                                                                                                                                                                                                                                                                                                                                                                                                                                   \n",
       "3 A collaborative survey that provides information on the ecological condition of the nation’s rivers and streams and the key stressors that affect them, both on a national and an ecoregional scale. \\nThe goals of the NRSA are to determine the extent to which rivers and streams support a healthy biological condition and the extent of major stressors that affect them. The survey supports a longer-term goal: to determine whether our rivers and streams are getting cleaner and how we might best invest in protecting and restoring them. \n",
       "4 2008                                                                                                                                                                                                                                                                                                                                                                                                                                                                                                                                                   \n",
       "5 20x channel-widths, a minimum of 150m                                                                                                                                                                                                                                                                                                                                                                                                                                                                                                                  \n",
       "6 GRTS                                                                                                                                                                                                                                                                                                                                                                                                                                                                                                                                                   \n",
       "  US.Forest.Service                                                                                                                                                                                                               \n",
       "1 PACFISH/INFISH Biological Opinion Effectiveness Monitoring                                                                                                                                                                      \n",
       "2 PIBO EM                                                                                                                                                                                                                         \n",
       "3 The primary objective is to determine whether\\npriority biological and physical attributes, processes, and functions of riparian\\nand aquatic systems are being degraded, maintained, or restored in the\\nPIBO monitoring area. \n",
       "4 1998                                                                                                                                                                                                                            \n",
       "5  20x bankfull channel\\nwidths, range from 160m-480m                                                                                                                                                                             \n",
       "6 GRTS, Targeted sites                                                                                                                                                                                                            "
      ]
     },
     "metadata": {},
     "output_type": "display_data"
    },
    {
     "ename": "ERROR",
     "evalue": "Error in kable(program_info): could not find function \"kable\"\n",
     "output_type": "error",
     "traceback": [
      "Error in kable(program_info): could not find function \"kable\"\nTraceback:\n",
      "1. kable(program_info) %>% kable_styling(bootstrap_options = c(\"striped\", \n .     \"hover\", fixed_header = TRUE))",
      "2. eval(lhs, parent, parent)",
      "3. eval(lhs, parent, parent)"
     ]
    }
   ],
   "source": [
    "program_info<-(read.xlsx(\"C:/Users/rscully/Documents/Projects/Habitat Data Sharing/2019 Work/Code/tributary-habitat-data-sharing-/Data/Metadata.xlsx\", 1))\n",
    "head(program_info)               \n",
    "               \n",
    "kable(program_info) %>%\n",
    "     kable_styling(bootstrap_options = c(\"striped\", \"hover\", fixed_header=TRUE ))"
   ]
  },
  {
   "cell_type": "markdown",
   "metadata": {},
   "source": [
    "<h3> Program Metrics </h3> \n",
    "Each monitoring program calculates a standard set of metrics based on their user's needs. Metadata for the EPA and BLM can be found on their webpages, PIBO and AREMP is aviable apon request. To facilitate data sharing we compiled a data dictionary identifing the metrics calculate by more then one program. You can find the full metric table in !!!! (NEED TO REVIEW AND PUBLISH) We classified each metirc into a catagory, table 2 shows the count of metrics by catagory. \n"
   ]
  },
  {
   "cell_type": "code",
   "execution_count": 13,
   "metadata": {},
   "outputs": [
    {
     "data": {
      "text/plain": [
       "<table>\n",
       " <thead>\n",
       "  <tr>\n",
       "   <th style=\"text-align:left;\"> Category </th>\n",
       "   <th style=\"text-align:right;\"> n </th>\n",
       "  </tr>\n",
       " </thead>\n",
       "<tbody>\n",
       "  <tr>\n",
       "   <td style=\"text-align:left;\"> Macroinvertebrates </td>\n",
       "   <td style=\"text-align:right;\"> 72 </td>\n",
       "  </tr>\n",
       "  <tr>\n",
       "   <td style=\"text-align:left;\"> Substrate </td>\n",
       "   <td style=\"text-align:right;\"> 31 </td>\n",
       "  </tr>\n",
       "  <tr>\n",
       "   <td style=\"text-align:left;\"> Channel Characteristics </td>\n",
       "   <td style=\"text-align:right;\"> 27 </td>\n",
       "  </tr>\n",
       "  <tr>\n",
       "   <td style=\"text-align:left;\"> Channel dimensions </td>\n",
       "   <td style=\"text-align:right;\"> 25 </td>\n",
       "  </tr>\n",
       "  <tr>\n",
       "   <td style=\"text-align:left;\"> Wood </td>\n",
       "   <td style=\"text-align:right;\"> 24 </td>\n",
       "  </tr>\n",
       "  <tr>\n",
       "   <td style=\"text-align:left;\"> Identification </td>\n",
       "   <td style=\"text-align:right;\"> 22 </td>\n",
       "  </tr>\n",
       "  <tr>\n",
       "   <td style=\"text-align:left;\"> Human disturbance </td>\n",
       "   <td style=\"text-align:right;\"> 14 </td>\n",
       "  </tr>\n",
       "  <tr>\n",
       "   <td style=\"text-align:left;\"> Location </td>\n",
       "   <td style=\"text-align:right;\"> 14 </td>\n",
       "  </tr>\n",
       "  <tr>\n",
       "   <td style=\"text-align:left;\"> Bed stability </td>\n",
       "   <td style=\"text-align:right;\"> 13 </td>\n",
       "  </tr>\n",
       "  <tr>\n",
       "   <td style=\"text-align:left;\"> Streambanks </td>\n",
       "   <td style=\"text-align:right;\"> 13 </td>\n",
       "  </tr>\n",
       "  <tr>\n",
       "   <td style=\"text-align:left;\"> Fish cover </td>\n",
       "   <td style=\"text-align:right;\"> 12 </td>\n",
       "  </tr>\n",
       "  <tr>\n",
       "   <td style=\"text-align:left;\"> Water chemistry </td>\n",
       "   <td style=\"text-align:right;\"> 11 </td>\n",
       "  </tr>\n",
       "  <tr>\n",
       "   <td style=\"text-align:left;\"> Environment </td>\n",
       "   <td style=\"text-align:right;\"> 9 </td>\n",
       "  </tr>\n",
       "  <tr>\n",
       "   <td style=\"text-align:left;\"> Pools </td>\n",
       "   <td style=\"text-align:right;\"> 8 </td>\n",
       "  </tr>\n",
       "  <tr>\n",
       "   <td style=\"text-align:left;\"> Overhead Cover </td>\n",
       "   <td style=\"text-align:right;\"> 4 </td>\n",
       "  </tr>\n",
       "  <tr>\n",
       "   <td style=\"text-align:left;\"> Management </td>\n",
       "   <td style=\"text-align:right;\"> 2 </td>\n",
       "  </tr>\n",
       "  <tr>\n",
       "   <td style=\"text-align:left;\"> Other/Covariates </td>\n",
       "   <td style=\"text-align:right;\"> 2 </td>\n",
       "  </tr>\n",
       "  <tr>\n",
       "   <td style=\"text-align:left;\"> Index Value </td>\n",
       "   <td style=\"text-align:right;\"> 1 </td>\n",
       "  </tr>\n",
       "</tbody>\n",
       "</table>"
      ]
     },
     "metadata": {},
     "output_type": "display_data"
    }
   ],
   "source": [
    "#Read in the data dictionary \n",
    "metadata <-as_tibble(read.xlsx(\"C:/Users/rscully/Documents/Projects/Habitat Data Sharing/2019 Work/Code/tributary-habitat-data-sharing-/Data/Metadata.xlsx\", 3))\n",
    "\n",
    "kable(metadata %>%\n",
    "  group_by(Category)%>%\n",
    "  count(Category, sort=TRUE))"
   ]
  },
  {
   "cell_type": "markdown",
   "metadata": {},
   "source": [
    "Each program calculates a produce a standard set of metrics. The EPA, BLM data and metadata is publicaly av"
   ]
  },
  {
   "cell_type": "code",
   "execution_count": 14,
   "metadata": {},
   "outputs": [
    {
     "name": "stderr",
     "output_type": "stream",
     "text": [
      "Warning message in file(filename, \"r\", encoding = encoding):\n",
      "\"cannot open file 'Code/data_organize/create_list_of_metrics.R': No such file or directory\""
     ]
    },
    {
     "ename": "ERROR",
     "evalue": "Error in file(filename, \"r\", encoding = encoding): cannot open the connection\n",
     "output_type": "error",
     "traceback": [
      "Error in file(filename, \"r\", encoding = encoding): cannot open the connection\nTraceback:\n",
      "1. source(\"Code/data_organize/create_list_of_metrics.R\")",
      "2. file(filename, \"r\", encoding = encoding)"
     ]
    }
   ],
   "source": [
    "source(\"C:/Users/rscully/Documents/Projects/Habitat Data Sharing/2019 Work/Code/data_organize/create_list_of_metrics.R\")\n",
    "metrics_list=metrics()\n",
    "kable(metrics_list)%>%\n",
    "    kable_styling(bootstrap_options = c(\"striped\", \"hover\", fixed_header=TRUE ))"
   ]
  },
  {
   "cell_type": "markdown",
   "metadata": {},
   "source": [
    "# Data Sources \n",
    "## Metric Data \n",
    "\n",
    "Two of the four habitat programs store metric level data online. We pull that data from the sourcs to be used to create a singular data set for mapping and analysis. \n",
    "\n",
    "<h3> BLM AIM Data </h3>\n",
    "The BLM AIM collects data across BLM lands. BLM data is stored as a geodatabase at !!!!!!!. "
   ]
  },
  {
   "cell_type": "code",
   "execution_count": 6,
   "metadata": {},
   "outputs": [
    {
     "ename": "ERROR",
     "evalue": "Error in download.file(url, method = method, ...): cannot open destfile 'Data/BLM.zip', reason 'No such file or directory'\n",
     "output_type": "error",
     "traceback": [
      "Error in download.file(url, method = method, ...): cannot open destfile 'Data/BLM.zip', reason 'No such file or directory'\nTraceback:\n",
      "1. download(fileURL, \"Data/BLM.zip\")",
      "2. suppressWarnings(download.file(url, method = method, ...))",
      "3. withCallingHandlers(expr, warning = function(w) invokeRestart(\"muffleWarning\"))",
      "4. download.file(url, method = method, ...)"
     ]
    }
   ],
   "source": [
    "#URL Location of the AIM GeoDataBase if the location changes this will need to be updated \n",
    "fileURL<- \"https://gis.blm.gov/AIMDownload/LayerPackages/BLM_AIM_AquADat.zip\"\n",
    "\n",
    "#Download the file to the Data file\n",
    "download(fileURL, \"Data/BLM.zip\" )\n",
    "\n",
    "#Unzip the file into the Data File \n",
    "unzip(\"Data/BLM.zip\", exdir=\"Data\")\n",
    "\n",
    "#Define the file path to the geodata base, if the BLM changes their file structure this will need to be updated \n",
    "fgdb=path.expand('Data/BLM_AIM_AquADat/v104/AquADat_data.gdb')\n",
    "\n",
    "#Read the Geodatabase layer into a file \n",
    "BLM <- data.frame(readOGR(dsn=fgdb))\n",
    "\n",
    "#write the datafile to the datafile in the repository\n",
    "write.csv(BLM,\"Data/BLM.csv\")\n",
    "\n",
    "head(BLM)"
   ]
  },
  {
   "cell_type": "markdown",
   "metadata": {},
   "source": [
    "<h3>EMA Rivers and Streams Data </h3>\n",
    "EPA collects data across the Unites States and publised their metric level data here!!!!!!! "
   ]
  },
  {
   "cell_type": "code",
   "execution_count": 17,
   "metadata": {},
   "outputs": [
    {
     "name": "stderr",
     "output_type": "stream",
     "text": [
      "Warning message:\n",
      "\"package 'RCurl' is in use and will not be installed\""
     ]
    },
    {
     "name": "stdout",
     "output_type": "stream",
     "text": [
      "package 'tidyverse' successfully unpacked and MD5 sums checked\n",
      "\n",
      "The downloaded binary packages are in\n",
      "\tC:\\Users\\rscully\\AppData\\Local\\Temp\\1\\RtmpgTjMrL\\downloaded_packages\n"
     ]
    },
    {
     "name": "stderr",
     "output_type": "stream",
     "text": [
      "Warning message:\n",
      "\"package 'tidyverse' was built under R version 3.6.2\"-- Attaching packages --------------------------------------- tidyverse 1.3.0 --\n",
      "v ggplot2 3.2.1     v purrr   0.3.3\n",
      "v tibble  2.1.3     v dplyr   0.8.3\n",
      "v tidyr   1.0.0     v stringr 1.4.0\n",
      "v readr   1.3.1     v forcats 0.4.0\n",
      "-- Conflicts ------------------------------------------ tidyverse_conflicts() --\n",
      "x tidyr::complete() masks RCurl::complete()\n",
      "x dplyr::filter()   masks stats::filter()\n",
      "x dplyr::lag()      masks stats::lag()\n",
      "Warning message:\n",
      "\"package 'dplyr' is in use and will not be installed\""
     ]
    }
   ],
   "source": [
    "install.packages(\"RCurl\")\n",
    "library(RCurl)\n",
    "\n",
    "\n",
    "install.packages('tidyverse')\n",
    "library(tidyverse)\n",
    "\n",
    "install.packages(\"dplyr\")\n",
    "library(dplyr)"
   ]
  },
  {
   "cell_type": "code",
   "execution_count": 19,
   "metadata": {},
   "outputs": [
    {
     "ename": "ERROR",
     "evalue": "Error in function (type, msg, asError = TRUE) : Could not resolve host: https\n",
     "output_type": "error",
     "traceback": [
      "Error in function (type, msg, asError = TRUE) : Could not resolve host: https\nTraceback:\n",
      "1. getURL(\"https:/www.epa.gov/sites/production/files/2015-09/phabmed.csv\")",
      "2. curlPerform(curl = curl, .opts = opts, .encoding = .encoding)",
      "3. function (type, msg, asError = TRUE) \n . {\n .     if (!is.character(type)) {\n .         i = match(type, CURLcodeValues)\n .         typeName = if (is.na(i)) \n .             character()\n .         else names(CURLcodeValues)[i]\n .     }\n .     typeName = gsub(\"^CURLE_\", \"\", typeName)\n .     fun = (if (asError) \n .         stop\n .     else warning)\n .     fun(structure(list(message = msg, call = sys.call()), class = c(typeName, \n .         \"GenericCurlError\", \"error\", \"condition\")))\n . }(6L, \"Could not resolve host: https\", TRUE)"
     ]
    }
   ],
   "source": [
    " #Pull the data set for NRSA 0809 Physical Habitat Larger Set of Metrics - Data (CSV)(1 pg, 4 MB) from\n",
    "  #WEBPAGE https://www.epa.gov/national-aquatic-resource-surveys/data-national-aquatic-resource-surveys\n",
    "ld_download <- getURL(\"https:\\www.epa.gov\\sites\\production\\files\\2015-09\\phabmed.csv)\n",
    "\n",
    "ld_download <- getURL(\"https:/www.epa.gov/sites/production/files/2015-09/phabmed.csv\")\n",
    "  \n",
    "  large_data  <- tbl_df(read.csv (text=ld_download))\n",
    "  \n",
    "  #Load the list of metric names create from the metadata \n",
    "  subSN<- read.csv(\"Data/SubSetOfMetricNames.csv\") \n",
    "  \n",
    "  #A vector of metric names from the EPA data \n",
    "  EPA<-subSN$EPAColumn\n",
    "  EPA<-as.character(EPA[!is.na(EPA)])\n",
    "  \n",
    "  # Include the protocol variable because the dataset contains both Wadeable and Boat streams, we are only intrested in wadeable streams \n",
    "  EPA<- c(EPA, \"PROTOCOL\")\n",
    "  \n",
    "  #Create a subset of the EPA data sets with only the metrics that overlap between the programs \n",
    "  sub= large_data[c(EPA)]\n",
    "  \n",
    "  #Remove all botable data, creating a subset of data that only contains the wadable stream data protocol \n",
    "  EPA_Wadeable= filter(sub, sub$PROTOCOL==\"WADEABLE\")\n",
    "  #Save the dataset in the repository data file \n",
    "  write.csv(EPA_Wadeable, file=\"Data/EPA_Subset.csv\", row.names=FALSE)"
   ]
  },
  {
   "cell_type": "markdown",
   "metadata": {},
   "source": [
    "##One Data Frame\n",
    "For mapping and analysis we build one dataframe with all data sourcs."
   ]
  },
  {
   "cell_type": "code",
   "execution_count": null,
   "metadata": {},
   "outputs": [],
   "source": [
    "source(\"Code/data_organize/creating one dataframe_for loop.R\")\n",
    "one_data_frame()\n",
    "data<- read.csv(\"Data/All_Data.csv\") "
   ]
  },
  {
   "cell_type": "markdown",
   "metadata": {},
   "source": [
    "# Simple Visualizations"
   ]
  },
  {
   "cell_type": "code",
   "execution_count": null,
   "metadata": {},
   "outputs": [],
   "source": [
    "data %>%\n",
    "  group_by(Program) %>%\n",
    "  summarize(mean(PctPool, na.rm=T)) "
   ]
  },
  {
   "cell_type": "code",
   "execution_count": null,
   "metadata": {},
   "outputs": [],
   "source": [
    "\n",
    "\n",
    "\n",
    "\n",
    "  \n",
    "\n"
   ]
  }
 ],
 "metadata": {
  "kernelspec": {
   "display_name": "R",
   "language": "R",
   "name": "ir"
  },
  "language_info": {
   "codemirror_mode": "r",
   "file_extension": ".r",
   "mimetype": "text/x-r-source",
   "name": "R",
   "pygments_lexer": "r",
   "version": "3.6.1"
  }
 },
 "nbformat": 4,
 "nbformat_minor": 2
}
