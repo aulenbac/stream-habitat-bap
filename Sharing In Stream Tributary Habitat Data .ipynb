{
 "cells": [
  {
   "cell_type": "code",
   "execution_count": null,
   "metadata": {},
   "outputs": [],
   "source": [
    "#install.packages(\"xlsx\")\n",
    "#library(xlsx)\n",
    "\n",
    "#install.packages(\"openxlsx\")\n",
    "#library(openxlsx)\n",
    "\n",
    "#install.packages(\"tidyverse\")\n",
    "#library(tidyverse)\n",
    "\n",
    "#Packages to create well formated tables in RStuido \n",
    "install.packages(\"knitr\")\n",
    "library(knitr)\n",
    "\n",
    "install.packages(\"kableExtra\")\n",
    "library(kableExtra)\n",
    "\n",
    "# packages for downloading and formaing shapefiles \n",
    "install.packages(\"downloader\")\n",
    "library(downloader)\n",
    "\n",
    "install.packages(\"rgdal\")\n",
    "library(rgdal)\n",
    "#~~~~~~~~~~~~~~~~~~~~~~~~~~~~~~~~~~up yes \n",
    "#install.packages(\"leaflet\")\n",
    "#library(leaflet)\n",
    "\n",
    "#install.packages(\"sf\")\n",
    "#library(sf)\n",
    "\n",
    "#install.packages(\"formattable\")\n",
    "\n",
    "#install.packages(\"DT\")\n",
    "#library(DT)\n",
    "\n",
    "#install.packages(\"RCurl\")\n",
    "#library(RCurl)\n",
    "\n",
    "\n",
    "#library(rstudioapi)\n",
    "#library(ggplot2)\n",
    "#library(formattable)\n",
    "#library(htmltools)\n",
    "\n",
    "\n",
    "\n",
    "#library(gridExtra)\n"
   ]
  },
  {
   "cell_type": "code",
   "execution_count": null,
   "metadata": {},
   "outputs": [],
   "source": [
    "wd= getwd()\n",
    "metadata_name= paste(wd, \"/Data/Metadata.xlsx\", sep=\"\")\n"
   ]
  },
  {
   "cell_type": "markdown",
   "metadata": {},
   "source": [
    "# Background \n",
    "\n",
    "To accelerate research and decision making data needs to be findable, accessible, interoperable, and reusable (FAIR). Multiple federal, state and tribal agencies collect in-stream and riparian habitat metrics to answer management questions specific to their program goals. This analysis package integrates data from two different aquatic monitoring programs; BLM AIM and EPA Rivers and Streams (Table1). \n",
    "\n",
    "<h2>Monitoring Program Information</h2>"
   ]
  },
  {
   "cell_type": "code",
   "execution_count": null,
   "metadata": {},
   "outputs": [],
   "source": [
    "#program_info<-(read.xlsx(\"C:/Users/rscully/Documents/Projects/Habitat Data Sharing/2019 Work/Code/tributary-habitat-data-sharing-/Data/Metadata.xlsx\", 1))\n",
    "program_info<-as.tibble(read.xlsx(metadata_name, 1))\n",
    "\n",
    "#head(program_info)               \n",
    "              \n",
    "kable(program_info) %>%\n",
    "    kable_styling(bootstrap_options = c(\"striped\", \"hover\", fixed_header=TRUE ))"
   ]
  },
  {
   "cell_type": "markdown",
   "metadata": {},
   "source": [
    "<h3> Program Metrics </h3> \n",
    "Each monitoring program calculates a standard set of metrics based on their user's needs. Metadata for the EPA and BLM can be found on their webpages, PIBO and AREMP is aviable apon request. To facilitate data sharing we compiled a data dictionary identifing the metrics calculate by more then one program. You can find the full metric table in !!!! (NEED TO REVIEW AND PUBLISH) We classified each metirc into a catagory, table 2 shows the count of metrics by catagory. \n"
   ]
  },
  {
   "cell_type": "code",
   "execution_count": null,
   "metadata": {},
   "outputs": [],
   "source": [
    "#Read in the data dictionary \n",
    "metadata <-read.xlsx(metadata_name, 3)\n",
    "\n",
    "kable(metadata %>%\n",
    "  group_by(Category)%>%\n",
    "  count(Category, sort=TRUE))"
   ]
  },
  {
   "cell_type": "markdown",
   "metadata": {},
   "source": [
    "Each program calculates a produce a standard set of metrics. The EPA, BLM data and metadata is publicaly av"
   ]
  },
  {
   "cell_type": "code",
   "execution_count": null,
   "metadata": {},
   "outputs": [],
   "source": [
    "file = paste(wd,\"/Code/Data_Organize/create_list_of_metrics.R\",sep='')\n",
    "source(file)\n",
    "metrics_list=metrics()\n",
    "\n",
    "print(metrics_list)\n",
    "\n",
    "#kable(metrics_list)%>%\n",
    "#    kable_styling(bootstrap_options = c(\"striped\", \"hover\", fixed_header=TRUE ))"
   ]
  },
  {
   "cell_type": "markdown",
   "metadata": {},
   "source": [
    "# Data Sources \n",
    "## Metric Data \n",
    "\n",
    "Two of the four habitat programs store metric level data online, BLM and EPA. Below is the code to pull data from the published sources and combind the information into one file. \n",
    "\n",
    "<h3> BLM AIM Data </h3>\n",
    "The BLM AIM published their data on the <a href=\"https://landscape.blm.gov/geoportal/catalog/main/home.page\">Landscape Approach Data Portal</a>. Pull down the most recient data file and open the geodatabase. If the BLM changes the location of the data the code will need to be updated"
   ]
  },
  {
   "cell_type": "code",
   "execution_count": null,
   "metadata": {},
   "outputs": [],
   "source": [
    "#URL Location of the AIM GeoDataBase of data collection locations, if the BLM updates the .zip file this link will need to be updated \n",
    "fileURL<-\"https://gis.blm.gov/AIMDownload/LayerPackages/BLM_AIM_AquADat.zip\"\n",
    "\n",
    "#Download the file to the Data file\n",
    "download_BLM = paste(wd,'/Data/BLM.zip', sep='')\n",
    "download(fileURL, download_BLM)\n",
    "\n",
    "##Unzip the file into the Data File \n",
    "extract_file <-paste(wd,\"/Data\", sep=\"\")\n",
    "unzip(download_BLM, exdir=extract_file)\n",
    "\n",
    "#Define the file path to the geodata base, if the BLM changes their file structure this will need to be updated \n",
    "fgdb=path.expand('Data/BLM_AIM_AquADat/v104/AquADat_data.gdb')\n",
    "\n",
    "BLM_geo<- readOGR(dsn=fgdb)\n",
    "BLM_projection <- BLM_geo@proj4string\n",
    "BLM <- BLM_geo@data\n",
    "\n",
    "#write the datafile to the datafile in the repository\n",
    "BLM_file= paste(wd, '/Data/BLM.csv', sep=\"\")\n",
    "write.csv(BLM, BLM_file)\n",
    "head(BLM)"
   ]
  },
  {
   "cell_type": "markdown",
   "metadata": {},
   "source": [
    "<h3>EMA Rivers and Streams Data </h3>\n",
    "EPA collects data across the Unites States and publised their metric level data here!!!!!!! "
   ]
  },
  {
   "cell_type": "code",
   "execution_count": null,
   "metadata": {},
   "outputs": [],
   "source": [
    "source_file= paste(wd,'/Code/Data_Organize/Pull EPA Data.R', sep='')\n",
    "source(source_file)\n",
    "#Fuction to pull EPA data from the user assigned webpage, clean, save and organize the wadable stream data\n",
    "#This does now work when connect to the vpn (I HAVE NO IDEA WHY?)\n",
    "EPA <-Pull_EPA(\"https://www.epa.gov/sites/production/files/2015-09/phabmed.csv\") \n",
    "head(EPA)"
   ]
  },
  {
   "cell_type": "markdown",
   "metadata": {},
   "source": [
    "# Create one Data File \n",
    "To complete anaysis we create one data frame from the two program."
   ]
  },
  {
   "cell_type": "code",
   "execution_count": null,
   "metadata": {},
   "outputs": [],
   "source": [
    "#file = paste(wd,\"/Code/Data_Organize/create_list_of_metrics.R\",sep='')\n",
    "file=path.expand(\"Code/data_organize/creating one dataframe_for loop.R\")\n",
    "#source(\"Code/data_organize/creating one dataframe_for loop.R\")\n",
    "source(file)\n",
    "data<-one_data_frame()\n"
   ]
  },
  {
   "cell_type": "markdown",
   "metadata": {},
   "source": [
    "## NEED TO ADD INFORMATION ABOUT CALCULATING COVARIATES, Sky calculated x used in the following example "
   ]
  },
  {
   "cell_type": "markdown",
   "metadata": {},
   "source": [
    "# Exlore Data "
   ]
  },
  {
   "cell_type": "code",
   "execution_count": null,
   "metadata": {},
   "outputs": [],
   "source": [
    "The BLM AIM Program and the EPA "
   ]
  },
  {
   "cell_type": "code",
   "execution_count": null,
   "metadata": {},
   "outputs": [],
   "source": [
    "file<- path.expand(\"Code/Visualization/Shiney_map_reactive_tabs.R\")\n",
    "#file<- paste(wd,\"/Visualization/Shiney_map_reactive_tabs.R\",sep='')\n",
    "source(file)\n",
    "explore_data()"
   ]
  },
  {
   "cell_type": "code",
   "execution_count": null,
   "metadata": {},
   "outputs": [],
   "source": [
    "\n",
    "file\n",
    "\n",
    "\n",
    "  \n",
    "\n"
   ]
  },
  {
   "cell_type": "code",
   "execution_count": null,
   "metadata": {},
   "outputs": [],
   "source": []
  }
 ],
 "metadata": {
  "kernelspec": {
   "display_name": "R",
   "language": "R",
   "name": "ir"
  },
  "language_info": {
   "codemirror_mode": "r",
   "file_extension": ".r",
   "mimetype": "text/x-r-source",
   "name": "R",
   "pygments_lexer": "r",
   "version": "3.6.1"
  }
 },
 "nbformat": 4,
 "nbformat_minor": 2
}
