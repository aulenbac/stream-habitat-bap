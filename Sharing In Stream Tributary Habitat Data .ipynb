{
 "cells": [
  {
   "cell_type": "markdown",
   "metadata": {},
   "source": [
    "# Background \n",
    "\n",
    "To accelerate research and decision making data needs to be findable, accessible, interoperable, and reusable (FAIR). Multiple federal, state and tribal agencies collect in-stream and riparian habitat metrics to answer management questions specific to their program goals. \n",
    "\n",
    "A working group compiled of partners from EPA National Aquatic Resources Survey (NARS), BLM Assessment, Inventory, and Monitoring (AIM), and the USFS Pacfish/Infish Biological Opinion Effectiveness Monitoring (PIBO-EM) and Aquatic and Riparian Effectiveness Monitoring Program (AREMP) have compiled program informaiton and undertaken \n",
    "\n"
   ]
  },
  {
   "cell_type": "code",
   "execution_count": null,
   "metadata": {},
   "outputs": [],
   "source": [
    "install.packages(\"xlsx\", repos=\"http://cran.cnr.berkeley.edu\")\n",
    "library(xlsx)\n",
    "\n",
    "install.packages(\"openxlsx\", repos=\"http://cran.cnr.berkeley.edu\")\n",
    "library(openxlsx)\n",
    "\n",
    "install.packages(\"tidyverse\", repos=\"http://cran.cnr.berkeley.edu\")\n",
    "library(tidyverse)\n",
    "\n",
    "#Packages to create well formated tables in RStuido \n",
    "install.packages(\"knitr\", repos=\"http://cran.cnr.berkeley.edu\")\n",
    "library(knitr)\n",
    "install.packages(\"kableExtra\", repos=\"http://cran.cnr.berkeley.edu\")\n",
    "library(kableExtra)\n",
    "\n",
    "# packages for downloading and formaing shapefiles \n",
    "install.packages(\"downloader\", repos=\"http://cran.cnr.berkeley.edu\")\n",
    "library(downloader)\n",
    "\n",
    "install.packages(\"rgdal\", repos=\"http://cran.cnr.berkeley.edu\")\n",
    "library(rgdal)\n",
    "\n",
    "install.packages(\"RCurl\", repos=\"http://cran.cnr.berkeley.edu\")\n",
    "library(RCurl)\n",
    "\n",
    "#~~~~~~~~~~~~~~~~~~~~~~~~~~~~~~~~~~up yes \n"
   ]
  },
  {
   "cell_type": "markdown",
   "metadata": {},
   "source": [
    "# Program Information \n",
    "This Jupyter Notebook integrates data from two different aquatic monitoring programs; BLM AIM and EPA Rivers and Streams. We have build the data dictionary to intergrate data from four sources, the BLM \n",
    "\n",
    "<h2>Monitoring Program Information</h2>\n",
    "Each monitoring program was established to answer different management questions appalying different spatial and temporal designs and protocols. "
   ]
  },
  {
   "cell_type": "code",
   "execution_count": null,
   "metadata": {},
   "outputs": [],
   "source": [
    "wd <- getwd()\n",
    "metadata_name <- paste(wd, \"/Data/Metadata.xlsx\", sep=\"\")\n",
    "program_info <- as_tibble(read.xlsx(metadata_name, 1))\n",
    "program_info \n"
   ]
  },
  {
   "cell_type": "markdown",
   "metadata": {},
   "source": [
    "<h3> Program Metrics </h3> \n",
    "Expertes from each of the four programs compiled metadata descibing the metrics calculated by each program. \n"
   ]
  },
  {
   "cell_type": "code",
   "execution_count": null,
   "metadata": {},
   "outputs": [],
   "source": [
    "metadata <-read.xlsx(metadata_name, 3)\n",
    "metadata_summary<- metadata %>%\n",
    "  group_by(Category)%>%\n",
    "  count(Category, sort=TRUE)"
   ]
  },
  {
   "cell_type": "code",
   "execution_count": null,
   "metadata": {},
   "outputs": [],
   "source": [
    "s = sum(metadata_summary[,2])\n",
    "paste(\"Across the 4 programs a total of,\" ,s, \"metrics are calculated\")"
   ]
  },
  {
   "cell_type": "markdown",
   "metadata": {},
   "source": [
    "Count of metrics by catagories: "
   ]
  },
  {
   "cell_type": "code",
   "execution_count": null,
   "metadata": {},
   "outputs": [],
   "source": [
    "metadata_summary"
   ]
  },
  {
   "cell_type": "markdown",
   "metadata": {},
   "source": [
    "Only a small subset of metrics are calcuated by 3 or more of the programs.  "
   ]
  },
  {
   "cell_type": "code",
   "execution_count": null,
   "metadata": {},
   "outputs": [],
   "source": [
    "file <- paste(wd,\"/Code/Data_Organize/create_list_of_metrics.R\",sep='')\n",
    "source(file)\n",
    "number_of_programs <-3 #user change variabe to understand \n",
    "metrics_list<-metrics(number_of_programs) \n",
    "count<-dim(metrics_list)\n",
    "paste(\"There are\", count[1], \"metrics calculate across\", number_of_programs, \"programs. The table below shows the subset of metrics caclcualted at\", number_of_programs, \"or more\")\n"
   ]
  },
  {
   "cell_type": "code",
   "execution_count": null,
   "metadata": {},
   "outputs": [],
   "source": [
    "metrics_list"
   ]
  },
  {
   "cell_type": "markdown",
   "metadata": {},
   "source": [
    "Just because the metrics are calculated across, it does not mean the data is compadiliy, there can be differences in field data collection methods, resulting in metrics that re not compadable across programs. To assess compadability we build on work completed by the BLM. <a href=\"url\">Review fild method compadbility</a>"
   ]
  },
  {
   "cell_type": "markdown",
   "metadata": {},
   "source": [
    "# Data Sources \n",
    "## Metric Data \n",
    "\n",
    "Two of the four habitat programs store metric level data online, BLM and EPA. Below is the code to pull data from the published sources and combind the information into one file. \n",
    "\n",
    "<h3> BLM AIM Data </h3>\n",
    "The BLM AIM published their data on the <a href=\"https://landscape.blm.gov/geoportal/catalog/main/home.page\">Landscape Approach Data Portal</a>. Pull down the most recient data file and open the geodatabase. If the BLM changes the location of the data the code will need to be updated"
   ]
  },
  {
   "cell_type": "code",
   "execution_count": null,
   "metadata": {},
   "outputs": [],
   "source": [
    "#URL Location of the AIM GeoDataBase of data collection locations, if the BLM updates the .zip file this link will need to be updated \n",
    "fileURL<-\"https://gis.blm.gov/AIMDownload/LayerPackages/BLM_AIM_AquADat.zip\"\n",
    "\n",
    "#Download the file to the Data file\n",
    "download_BLM = paste(wd,'/Data/BLM.zip', sep='')\n",
    "download(fileURL, download_BLM)\n",
    "\n",
    "##Unzip the file into the Data File \n",
    "extract_file <-paste(wd,\"/Data\", sep=\"\")\n",
    "unzip(download_BLM, exdir=extract_file)\n",
    "\n",
    "#Define the file path to the geodata base, if the BLM changes their file structure this will need to be updated \n",
    "fgdb=path.expand('Data/BLM_AIM_AquADat/v104/AquADat_data.gdb')\n",
    "\n",
    "BLM_geo<- readOGR(dsn=fgdb)\n",
    "BLM_projection <- BLM_geo@proj4string\n",
    "BLM <- BLM_geo@data\n",
    "\n",
    "#write the datafile to the datafile in the repository\n",
    "BLM_file= paste(wd, '/Data/BLM.csv', sep=\"\")\n",
    "write.csv(BLM, BLM_file)\n",
    "head(BLM)"
   ]
  },
  {
   "cell_type": "markdown",
   "metadata": {},
   "source": [
    "<h3>EMA Rivers and Streams Data </h3>\n",
    "EPA collects data across the Unites States and publised their metric level data here!!!!!!! "
   ]
  },
  {
   "cell_type": "code",
   "execution_count": null,
   "metadata": {},
   "outputs": [],
   "source": [
    "source_file= paste(wd,'/Code/Data_Organize/Pull EPA Data.R', sep='')\n",
    "source(source_file)\n",
    "#Fuction to pull EPA data from the user assigned webpage, clean, save and organize the wadable stream data\n",
    "#This does now work when connect to the vpn (I HAVE NO IDEA WHY?)\n",
    "EPA <-Pull_EPA(\"https://www.epa.gov/sites/production/files/2015-09/phabmed.csv\") \n",
    "head(EPA)"
   ]
  },
  {
   "cell_type": "markdown",
   "metadata": {},
   "source": [
    "# Create one Data File \n",
    "To complete anaysis we create one data frame from the two program."
   ]
  },
  {
   "cell_type": "code",
   "execution_count": null,
   "metadata": {},
   "outputs": [],
   "source": [
    "#file = paste(wd,\"/Code/Data_Organize/create_list_of_metrics.R\",sep='')\n",
    "file=path.expand(\"Code/data_organize/creating one dataframe_for loop.R\")\n",
    "#source(\"Code/data_organize/creating one dataframe_for loop.R\")\n",
    "source(file)\n",
    "data<-one_data_frame()\n"
   ]
  },
  {
   "cell_type": "markdown",
   "metadata": {},
   "source": [
    "## NEED TO ADD INFORMATION ABOUT CALCULATING COVARIATES, Sky calculated x used in the following example "
   ]
  },
  {
   "cell_type": "code",
   "execution_count": null,
   "metadata": {},
   "outputs": [],
   "source": [
    "install.packages('shiny', dependencies = TRUE, repos=\"http://cran.cnr.berkeley.edu\")\n",
    "library(shiny)\n"
   ]
  },
  {
   "cell_type": "markdown",
   "metadata": {},
   "source": [
    "# Explore In Stream Tributary Habitat Data\n",
    "As a proof of concept for this analysis package, we picked 2-3 metrics (category of metrics?) as a test case to build a data dictionary, intergrade data from multiple sources and design infrastructure to serve data to interested parties.  We selected metrics that are responsive to management decisions, have low measure error as defined in the lititure (Kershner and Roper 2010, ##add other references), the method comparison (<font color=\"red\">insert link </font>) work completed by this group. Special consideration was given to metrics identified in the <a href=\"https://docs.google.com/spreadsheets/d/1zeLDBvNtEaw21LR6vcnCEsOZeW5C6cNAzgTpnz8D4XI/edit#gid=596617989\">speed dating exercise</a> speed dating exercise as of high importance by the three programs. "
   ]
  },
  {
   "cell_type": "markdown",
   "metadata": {},
   "source": [
    "I CAN'T Get this to run? I think it has something do do with loading packages. \n",
    "\n"
   ]
  },
  {
   "cell_type": "code",
   "execution_count": null,
   "metadata": {},
   "outputs": [],
   "source": [
    "wd <- getwd()\n",
    "file<- paste0(wd,\"/Code/Visualization/Shiney_map_reactive_tabs.R\")\n",
    "source(file)\n",
    "map_download()\n"
   ]
  },
  {
   "cell_type": "code",
   "execution_count": null,
   "metadata": {},
   "outputs": [],
   "source": []
  }
 ],
 "metadata": {
  "kernelspec": {
   "display_name": "R",
   "language": "R",
   "name": "ir"
  },
  "language_info": {
   "codemirror_mode": "r",
   "file_extension": ".r",
   "mimetype": "text/x-r-source",
   "name": "R",
   "pygments_lexer": "r",
   "version": "3.6.1"
  }
 },
 "nbformat": 4,
 "nbformat_minor": 2
}
